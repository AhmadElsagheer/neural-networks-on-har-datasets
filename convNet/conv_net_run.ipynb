{
 "cells": [
  {
   "cell_type": "code",
   "execution_count": null,
   "metadata": {
    "collapsed": false,
    "deletable": true,
    "editable": true
   },
   "outputs": [],
   "source": [
    "# For auto-reloading external modules\n",
    "%load_ext autoreload\n",
    "%autoreload 2\n",
    "import tensorflow as tf\n",
    "import numpy as np\n",
    "import pandas as pd\n",
    "import conv_net as cnn\n",
    "from utils import data_utils as du\n",
    "from sklearn.model_selection import KFold\n",
    "import matplotlib.pyplot as plt\n",
    "import config"
   ]
  },
  {
   "cell_type": "markdown",
   "metadata": {
    "collapsed": true,
    "deletable": true,
    "editable": true
   },
   "source": [
    "### Data Preprocessing"
   ]
  },
  {
   "cell_type": "code",
   "execution_count": null,
   "metadata": {
    "collapsed": false,
    "deletable": true,
    "editable": true
   },
   "outputs": [],
   "source": [
    "# 1. Convert flatten raw data to structured raw data\n",
    "du.split_datafiles('dataset/raw_flattened/')"
   ]
  },
  {
   "cell_type": "code",
   "execution_count": null,
   "metadata": {
    "collapsed": false,
    "deletable": true,
    "editable": true
   },
   "outputs": [],
   "source": [
    "# 2. Convert raw data into datapoints and split train/test datasets\n",
    "du.maybe_preprocess_dataset(3, force=True)"
   ]
  },
  {
   "cell_type": "markdown",
   "metadata": {
    "deletable": true,
    "editable": true
   },
   "source": [
    "### Loading the dataset"
   ]
  },
  {
   "cell_type": "code",
   "execution_count": null,
   "metadata": {
    "collapsed": false,
    "deletable": true,
    "editable": true
   },
   "outputs": [],
   "source": [
    "train = du.load_dataset('train')\n",
    "test = du.load_dataset('test')\n",
    "\n",
    "print 'train dataset has shape ', train[0].shape\n",
    "print 'test dataset has shape ', test[0].shape"
   ]
  },
  {
   "cell_type": "markdown",
   "metadata": {
    "deletable": true,
    "editable": true
   },
   "source": [
    "### Train and Tweak"
   ]
  },
  {
   "cell_type": "code",
   "execution_count": null,
   "metadata": {
    "collapsed": false,
    "deletable": true,
    "editable": true
   },
   "outputs": [],
   "source": [
    "train_size = train[0].shape[0]\n",
    "idx = np.random.permutation(train_size)\n",
    "dataset = train[0][idx], train[1][idx]"
   ]
  },
  {
   "cell_type": "code",
   "execution_count": null,
   "metadata": {
    "collapsed": false,
    "deletable": true,
    "editable": true,
    "scrolled": true
   },
   "outputs": [],
   "source": [
    "val_folds = 7\n",
    "kf = KFold(n_splits=val_folds)\n",
    "train_idx, val_idx = kf.split(dataset[0]).next()\n",
    "\n",
    "train, val = du.get_batch(dataset, indices=train_idx), du.get_batch(dataset, indices=val_idx)\n",
    "cnt = np.zeros(10)\n",
    "for idx in np.argmax(val[1], axis=1):\n",
    "    cnt[idx] += 1\n",
    "print cnt\n",
    "clf = cnn.ConvNetClassifier()\n",
    "clf.fit(train, val=val, out_dir='log/train2/', verbose=True)"
   ]
  },
  {
   "cell_type": "code",
   "execution_count": null,
   "metadata": {
    "collapsed": false,
    "deletable": true,
    "editable": true
   },
   "outputs": [],
   "source": [
    "train_acc = clf.accuracy(train)\n",
    "val_acc = clf.accuracy(val)\n",
    "\n",
    "print 'accuracy on train dataset = %.3f' % train_acc\n",
    "print 'accuracy on val dataset = %.3f' % val_acc"
   ]
  },
  {
   "cell_type": "code",
   "execution_count": null,
   "metadata": {
    "collapsed": false,
    "deletable": true,
    "editable": true,
    "scrolled": true
   },
   "outputs": [],
   "source": [
    "conf_mat = clf.confusion_matrix(train)\n",
    "print 'Confusion Matrix'\n",
    "print conf_mat\n",
    "print\n",
    "print 'Accuracies'\n",
    "for idx in range(10):\n",
    "    s = np.sum(conf_mat[idx])\n",
    "    if(s == 0):\n",
    "        continue\n",
    "    print conf_mat[idx][idx] * 1.0 / s\n",
    "print\n",
    "print 'Precisions'\n",
    "for idx in range(10):\n",
    "    s = np.sum(conf_mat[:,idx])\n",
    "    if(s == 0):\n",
    "        continue\n",
    "    print conf_mat[idx][idx] * 1.0 / s"
   ]
  },
  {
   "cell_type": "markdown",
   "metadata": {
    "deletable": true,
    "editable": true
   },
   "source": [
    "## Plotting"
   ]
  },
  {
   "cell_type": "code",
   "execution_count": null,
   "metadata": {
    "collapsed": false,
    "deletable": true,
    "editable": true
   },
   "outputs": [],
   "source": [
    "# Plotting functions\n",
    "def plot_emg_channels(datapoint, vers1, vers2, title):\n",
    "    \n",
    "    x, y = range(config.sampling_rate), datapoint\n",
    "    xv1, yv1 = range(config.sampling_rate), vers1\n",
    "    xv2, yv2 = range(config.sampling_rate), vers2\n",
    "    f, sub = plt.subplots(nrows=4, ncols=2)\n",
    "    for c in range(8):\n",
    "        sub[c / 2][c % 2].plot(xv1, yv1[:, c], color='red')\n",
    "        sub[c / 2][c % 2].plot(xv2, yv2[:, c], color='green')\n",
    "#         sub[c / 2][c % 2].plot(x, y[:, c])\n",
    "        sub[c / 2][c % 2].grid()\n",
    "    plt.legend()\n",
    "    plt.suptitle(title)\n",
    "    plt.show()\n",
    "    \n",
    "def get_data(path):\n",
    "    return pd.read_csv(path).iloc[:, 1:].as_matrix()\n",
    "    \n",
    "def plot_loss_function(name):\n",
    "    loss_data = get_data('plotting/data_csv/' + name + '/loss.csv')\n",
    "    x, y = loss_data[:, 0], loss_data[:, 1]\n",
    "    plt.plot(x, y, color='#581845')\n",
    "    plt.title('Loss Function')\n",
    "    plt.xlabel('steps')\n",
    "    plt.ylabel('loss')\n",
    "#     plt.axis([0, 5000, 0, 1.5])\n",
    "    plt.grid(True)\n",
    "    plt.show()\n",
    "    \n",
    "def plot_accuracies(name):\n",
    "    train_data = get_data('plotting/data_csv/' + name + '/train_acc.csv')\n",
    "    val_data = get_data('plotting/data_csv/' + name + '/val_acc.csv')\n",
    "    x, y = train_data[:, 0], train_data[:, 1]\n",
    "    plt.plot(x, y, color='#009C17', label='training')\n",
    "    x, y = val_data[:, 0], val_data[:, 1]\n",
    "    plt.plot(x, y, color='#01B8B5', label='validation')\n",
    "    plt.title('Training Vs. Validation')\n",
    "    plt.legend(bbox_to_anchor=(0., 0.8, 1., .102))\n",
    "    plt.xlabel('steps')\n",
    "    plt.ylabel('accuracy')\n",
    "    plt.grid(True)\n",
    "    plt.show()"
   ]
  },
  {
   "cell_type": "code",
   "execution_count": null,
   "metadata": {
    "collapsed": false,
    "deletable": true,
    "editable": true
   },
   "outputs": [],
   "source": [
    "# run plotting here\n",
    "plot_loss_function('acts789')\n",
    "plot_accuracies('acts789')"
   ]
  },
  {
   "cell_type": "markdown",
   "metadata": {
    "deletable": true,
    "editable": true
   },
   "source": [
    "## Test the model"
   ]
  },
  {
   "cell_type": "code",
   "execution_count": null,
   "metadata": {
    "collapsed": false,
    "deletable": true,
    "editable": true
   },
   "outputs": [],
   "source": [
    "test_acc = clf.accuracy(test)\n",
    "\n",
    "print 'accuracy on train dataset = %.3f' % train_acc\n",
    "print 'accuracy on test dataset = %.3f' % test_acc\n",
    "print 'confusion matrix'\n",
    "print clf.confusion_matrix(test)"
   ]
  },
  {
   "cell_type": "code",
   "execution_count": null,
   "metadata": {
    "collapsed": true,
    "deletable": true,
    "editable": true
   },
   "outputs": [],
   "source": [
    "def get_records(activity_class, count=-1):\n",
    "    train = du.load_dataset('train')\n",
    "    result = np.empty((0, 128, 8))\n",
    "    for idx in range(train[0].shape[0]):\n",
    "        if(train[1][idx][activity_class] == 1):\n",
    "            dim1, dim2 = train[0][idx].shape\n",
    "            datapoint = np.reshape(train[0][idx], (1, dim1, dim2))\n",
    "            result = np.concatenate((result, datapoint))\n",
    "            count -= 1\n",
    "            if(count == 0):\n",
    "                break\n",
    "    return result"
   ]
  },
  {
   "cell_type": "code",
   "execution_count": null,
   "metadata": {
    "collapsed": false,
    "deletable": true,
    "editable": true
   },
   "outputs": [],
   "source": [
    "res1 = get_records(2)\n",
    "res2 = get_records(3)"
   ]
  },
  {
   "cell_type": "code",
   "execution_count": null,
   "metadata": {
    "collapsed": false,
    "deletable": true,
    "editable": true
   },
   "outputs": [],
   "source": [
    "avg = np.mean(res, axis=0)\n",
    "\n",
    "idx1 = np.random.choice(res1.shape[0], 1)\n",
    "idx2 = np.random.choice(res2.shape[0], 1)\n",
    "\n",
    "plot_emg_channels(avg, res1[idx1[0]], res2[idx2[0]], '')"
   ]
  }
 ],
 "metadata": {
  "kernelspec": {
   "display_name": "Python 2",
   "language": "python",
   "name": "python2"
  },
  "language_info": {
   "codemirror_mode": {
    "name": "ipython",
    "version": 2
   },
   "file_extension": ".py",
   "mimetype": "text/x-python",
   "name": "python",
   "nbconvert_exporter": "python",
   "pygments_lexer": "ipython2",
   "version": "2.7.6"
  }
 },
 "nbformat": 4,
 "nbformat_minor": 2
}
