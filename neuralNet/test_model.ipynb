{
 "cells": [
  {
   "cell_type": "code",
   "execution_count": 12,
   "metadata": {
    "collapsed": false,
    "deletable": true,
    "editable": true
   },
   "outputs": [
    {
     "name": "stdout",
     "output_type": "stream",
     "text": [
      "accuracy on test dataset = 0.9742\n",
      "\n",
      "Confusion matrix\n",
      "================\n",
      "[[491   2   3   0   0   0]\n",
      " [  4 467   0   0   0   0]\n",
      " [  2  10 408   0   0   0]\n",
      " [  0   2   0 452  37   0]\n",
      " [  0   0   0  16 516   0]\n",
      " [  0   0   0   0   0 537]]\n"
     ]
    }
   ],
   "source": [
    "import neural_network as nn\n",
    "import data_utils as du\n",
    "\n",
    "train = du.load_dataset('train')\n",
    "test = du.load_dataset('test')\n",
    "\n",
    "clf = nn.NeuralNetwork()\n",
    "clf.fit(train, out_dir='log/final/')\n",
    "\n",
    "test_acc = clf.accuracy(test)\n",
    "print 'accuracy on test dataset = %.4f' % test_acc\n",
    "print \n",
    "print 'Confusion matrix'\n",
    "print '================'\n",
    "print clf.confusion_matrix(test)"
   ]
  }
 ],
 "metadata": {
  "kernelspec": {
   "display_name": "Python 2",
   "language": "python",
   "name": "python2"
  },
  "language_info": {
   "codemirror_mode": {
    "name": "ipython",
    "version": 2
   },
   "file_extension": ".py",
   "mimetype": "text/x-python",
   "name": "python",
   "nbconvert_exporter": "python",
   "pygments_lexer": "ipython2",
   "version": "2.7.6"
  }
 },
 "nbformat": 4,
 "nbformat_minor": 2
}
